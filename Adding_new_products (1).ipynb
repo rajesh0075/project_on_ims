{
  "nbformat": 4,
  "nbformat_minor": 0,
  "metadata": {
    "colab": {
      "name": "Adding_new_products.ipynb",
      "provenance": [],
      "collapsed_sections": []
    },
    "kernelspec": {
      "name": "python3",
      "display_name": "Python 3"
    },
    "language_info": {
      "name": "python"
    }
  },
  "cells": [
    {
      "cell_type": "code",
      "metadata": {
        "id": "VcNoEyqmzG-c"
      },
      "source": [
        "records = {\n",
        "    1001 : {\"name\":\"Acetaminophen\",           \"price\":15, \"quan\":50,  \"expiry\":\"10 oct 2023\", \"rating\": 9},\n",
        "    1002 : {\"name\":\"Cyclobenzaprine\",        \"price\":20,   \"quan\":130, \"expiry\":\"12 jan 2022\", \"rating\": 4},\n",
        "    1003 : {\"name\":\"Entyvio\",                \"price\":80,   \"quan\":145, \"expiry\":\"10 mar 2023\", \"rating\": 7},\n",
        "    1004 : {\"name\":\"Metformin\",              \"price\":52,   \"quan\":122, \"expiry\":\"23 jun 2023\", \"rating\": 9},\n",
        "    1005 : {\"name\":\"Adderall\",               \"price\":85,   \"quan\":30,  \"expiry\":\"30 oct 2022\", \"rating\": 2},\n",
        "    1006 : {\"name\":\"Farxiga\",                \"price\":24,   \"quan\":58,  \"expiry\":\"29 jan 2022\", \"rating\": 1},\n",
        "    1007 : {\"name\":\"Methadone\",              \"price\":55,   \"quan\":59,  \"expiry\":\"31 aug 2022\", \"rating\": 7}, \n",
        "    1008 : {\"name\":\"Fentanyl\",               \"price\":90,   \"quan\":90,  \"expiry\":\"21 feb 2022\", \"rating\": 5}, \n",
        "    1009 : {\"name\":\"Gilenya\",                \"price\":80,   \"quan\":95,  \"expiry\":\"28 dec 2021\", \"rating\": 8}, \n",
        "    1010 : {\"name\":\"Naloxone\",               \"price\":11,   \"quan\":95,  \"expiry\":\"01 jun 2022\", \"rating\": 3}, \n",
        "    1011 : {\"name\":\"Naltrexone\",             \"price\":120,  \"quan\":100, \"expiry\":\"15 jul 2022\", \"rating\": 5}, \n",
        "    1012 : {\"name\":\"Humira\",                 \"price\":90,   \"quan\":200, \"expiry\":\"02 dec 2021\", \"rating\": 7}, \n",
        "    1013 : {\"name\":\"Hydrochlorothiazide\",    \"price\":24,   \"quan\":120, \"expiry\":\"30 dec 2021\", \"rating\": 8}, \n",
        "    1014 : {\"name\":\"Ibuprofen\",              \"price\":80,   \"quan\":180, \"expiry\":\"19 mar 2022\", \"rating\": 5},\n",
        "    1015 : {\"name\":\"Benzonatate\",            \"price\":60,   \"quan\":185, \"expiry\":\"19 feb 2022\", \"rating\": 3}, \n",
        "    1016 : {\"name\":\"Gabapentin\",             \"price\":346,  \"quan\":190, \"expiry\":\"15 jan 2022\", \"rating\": 1},  \n",
        "    1017 : {\"name\":\"Humira\",                 \"price\":67,   \"quan\":140, \"expiry\":\"13 dec 2011\", \"rating\": 9},  \n",
        "    1018 : {\"name\":\"Ozempic\",                \"price\":30,   \"quan\":450, \"expiry\":\"14 feb 2023\", \"rating\": 4},  \n",
        "    1019 : {\"name\":\"Imbruvica\",              \"price\":25,   \"quan\":440, \"expiry\":\"20 dec 2023\", \"rating\": 8}, \n",
        "    1020 : {\"name\":\"Invokana\",               \"price\":85,   \"quan\":400, \"expiry\":\"25 jan 2024\", \"rating\": 6},  \n",
        "    1021 : {\"name\":\"Jardiance\",              \"price\":90,   \"quan\":360, \"expiry\":\"22 jan 2023\", \"rating\": 4},  \n",
        "    1022 : {\"name\":\"Prednisone\",             \"price\":40,   \"quan\":60,  \"expiry\":\"20 dec 2024\", \"rating\": 2}, \n",
        "    1023 : {\"name\":\"Probuphine\",             \"price\":55,   \"quan\":70,  \"expiry\":\"20 jun 2023\", \"rating\": 8}, \n",
        "    1024 : {\"name\":\"Cyclobenzaprine\",        \"price\":65,   \"quan\":60,  \"expiry\":\"22 jul 2023\", \"rating\": 7}, \n",
        "    1025 : {\"name\":\"Doxycycline\",            \"price\":89,   \"quan\":40,  \"expiry\":\"20 nov 2023\", \"rating\": 4}, \n",
        "    1026 : {\"name\":\"Colgate\",                \"price\":215,  \"quan\":55,  \"expiry\":\"20 jun 2024\", \"rating\": 9},\n",
        "    1027 : {\"name\":\"Pepsodent\",              \"price\":300,  \"quan\":150, \"expiry\":\"15 jul 2022\", \"rating\": 8},  \n",
        "    1028 : {\"name\":\"Dupixent\",               \"price\":247,  \"quan\":100, \"expiry\":\"10 aug 2024\", \"rating\": 6},\n",
        "    1029 : {\"name\":\"Meloxicam\",              \"price\":149,  \"quan\":98,  \"expiry\":\"31 jul 2023\", \"rating\": 2}, \n",
        "    1030 : {\"name\":\"Zubsolv\",                \"price\":104,  \"quan\":200, \"expiry\":\"22 may 2022\", \"rating\": 7}, \n",
        "    1031 : {\"name\":\"Himalaya Baby Powder\",   \"price\":243,  \"quan\":150, \"expiry\":\"31 may 2024\", \"rating\": 7}, \n",
        "    1032 : {\"name\":\"Viagra\",                 \"price\":199,  \"quan\":120, \"expiry\":\"31 may 2024\", \"rating\": 5},\n",
        "    1033 : {\"name\":\"Sublocade\",              \"price\":299,  \"quan\":155, \"expiry\":\"01 jan 2024\", \"rating\": 4}, \n",
        "    1034 : {\"name\":\"Clonazepam\",             \"price\":555,  \"quan\":230, \"expiry\":\"31 may 2024\", \"rating\": 8}, \n",
        "    1035 : {\"name\":\"Cephalexin\",             \"price\":475,  \"quan\":50,  \"expiry\":\"31 jan 2022\", \"rating\": 9}\n",
        "}"
      ],
      "execution_count": 21,
      "outputs": []
    },
    {
      "cell_type": "code",
      "metadata": {
        "id": "nW6ZmIX60EJS"
      },
      "source": [
        "import json"
      ],
      "execution_count": 22,
      "outputs": []
    },
    {
      "cell_type": "code",
      "metadata": {
        "id": "qK-byISn08gT"
      },
      "source": [
        "js = json.dumps(records)"
      ],
      "execution_count": 23,
      "outputs": []
    },
    {
      "cell_type": "code",
      "metadata": {
        "id": "nnONHXnL2O13"
      },
      "source": [
        "fd = open(\"records.json\",\"w\")\n",
        "fd.write(js)\n",
        "fd.close()"
      ],
      "execution_count": 24,
      "outputs": []
    },
    {
      "cell_type": "markdown",
      "metadata": {
        "id": "DZzY1V5I2lew"
      },
      "source": [
        "Read Data From JSON"
      ]
    },
    {
      "cell_type": "code",
      "metadata": {
        "id": "20Xy6vfq2bbU"
      },
      "source": [
        "fd = open(\"records.json\",'r')\n",
        "\n",
        "r = fd.read()\n",
        "\n",
        "fd.close()\n"
      ],
      "execution_count": 25,
      "outputs": []
    },
    {
      "cell_type": "code",
      "metadata": {
        "id": "8aHVodEH2uzP"
      },
      "source": [
        "records = json.loads(r)"
      ],
      "execution_count": 26,
      "outputs": []
    },
    {
      "cell_type": "code",
      "metadata": {
        "colab": {
          "base_uri": "https://localhost:8080/"
        },
        "id": "HPwLVq_k2yzg",
        "outputId": "ba3f2173-5d05-4d9b-faad-87f5e76ad70a"
      },
      "source": [
        "records"
      ],
      "execution_count": 27,
      "outputs": [
        {
          "output_type": "execute_result",
          "data": {
            "text/plain": [
              "{'1001': {'expiry': '10 oct 2023',\n",
              "  'name': 'Acetaminophen',\n",
              "  'price': 15,\n",
              "  'quan': 50,\n",
              "  'rating': 9},\n",
              " '1002': {'expiry': '12 jan 2022',\n",
              "  'name': 'Cyclobenzaprine',\n",
              "  'price': 20,\n",
              "  'quan': 130,\n",
              "  'rating': 4},\n",
              " '1003': {'expiry': '10 mar 2023',\n",
              "  'name': 'Entyvio',\n",
              "  'price': 80,\n",
              "  'quan': 145,\n",
              "  'rating': 7},\n",
              " '1004': {'expiry': '23 jun 2023',\n",
              "  'name': 'Metformin',\n",
              "  'price': 52,\n",
              "  'quan': 122,\n",
              "  'rating': 9},\n",
              " '1005': {'expiry': '30 oct 2022',\n",
              "  'name': 'Adderall',\n",
              "  'price': 85,\n",
              "  'quan': 30,\n",
              "  'rating': 2},\n",
              " '1006': {'expiry': '29 jan 2022',\n",
              "  'name': 'Farxiga',\n",
              "  'price': 24,\n",
              "  'quan': 58,\n",
              "  'rating': 1},\n",
              " '1007': {'expiry': '31 aug 2022',\n",
              "  'name': 'Methadone',\n",
              "  'price': 55,\n",
              "  'quan': 59,\n",
              "  'rating': 7},\n",
              " '1008': {'expiry': '21 feb 2022',\n",
              "  'name': 'Fentanyl',\n",
              "  'price': 90,\n",
              "  'quan': 90,\n",
              "  'rating': 5},\n",
              " '1009': {'expiry': '28 dec 2021',\n",
              "  'name': 'Gilenya',\n",
              "  'price': 80,\n",
              "  'quan': 95,\n",
              "  'rating': 8},\n",
              " '1010': {'expiry': '01 jun 2022',\n",
              "  'name': 'Naloxone',\n",
              "  'price': 11,\n",
              "  'quan': 95,\n",
              "  'rating': 3},\n",
              " '1011': {'expiry': '15 jul 2022',\n",
              "  'name': 'Naltrexone',\n",
              "  'price': 120,\n",
              "  'quan': 100,\n",
              "  'rating': 5},\n",
              " '1012': {'expiry': '02 dec 2021',\n",
              "  'name': 'Humira',\n",
              "  'price': 90,\n",
              "  'quan': 200,\n",
              "  'rating': 7},\n",
              " '1013': {'expiry': '30 dec 2021',\n",
              "  'name': 'Hydrochlorothiazide',\n",
              "  'price': 24,\n",
              "  'quan': 120,\n",
              "  'rating': 8},\n",
              " '1014': {'expiry': '19 mar 2022',\n",
              "  'name': 'Ibuprofen',\n",
              "  'price': 80,\n",
              "  'quan': 180,\n",
              "  'rating': 5},\n",
              " '1015': {'expiry': '19 feb 2022',\n",
              "  'name': 'Benzonatate',\n",
              "  'price': 60,\n",
              "  'quan': 185,\n",
              "  'rating': 3},\n",
              " '1016': {'expiry': '15 jan 2022',\n",
              "  'name': 'Gabapentin',\n",
              "  'price': 346,\n",
              "  'quan': 190,\n",
              "  'rating': 1},\n",
              " '1017': {'expiry': '13 dec 2011',\n",
              "  'name': 'Humira',\n",
              "  'price': 67,\n",
              "  'quan': 140,\n",
              "  'rating': 9},\n",
              " '1018': {'expiry': '14 feb 2023',\n",
              "  'name': 'Ozempic',\n",
              "  'price': 30,\n",
              "  'quan': 450,\n",
              "  'rating': 4},\n",
              " '1019': {'expiry': '20 dec 2023',\n",
              "  'name': 'Imbruvica',\n",
              "  'price': 25,\n",
              "  'quan': 440,\n",
              "  'rating': 8},\n",
              " '1020': {'expiry': '25 jan 2024',\n",
              "  'name': 'Invokana',\n",
              "  'price': 85,\n",
              "  'quan': 400,\n",
              "  'rating': 6},\n",
              " '1021': {'expiry': '22 jan 2023',\n",
              "  'name': 'Jardiance',\n",
              "  'price': 90,\n",
              "  'quan': 360,\n",
              "  'rating': 4},\n",
              " '1022': {'expiry': '20 dec 2024',\n",
              "  'name': 'Prednisone',\n",
              "  'price': 40,\n",
              "  'quan': 60,\n",
              "  'rating': 2},\n",
              " '1023': {'expiry': '20 jun 2023',\n",
              "  'name': 'Probuphine',\n",
              "  'price': 55,\n",
              "  'quan': 70,\n",
              "  'rating': 8},\n",
              " '1024': {'expiry': '22 jul 2023',\n",
              "  'name': 'Cyclobenzaprine',\n",
              "  'price': 65,\n",
              "  'quan': 60,\n",
              "  'rating': 7},\n",
              " '1025': {'expiry': '20 nov 2023',\n",
              "  'name': 'Doxycycline',\n",
              "  'price': 89,\n",
              "  'quan': 40,\n",
              "  'rating': 4},\n",
              " '1026': {'expiry': '20 jun 2024',\n",
              "  'name': 'Colgate',\n",
              "  'price': 215,\n",
              "  'quan': 55,\n",
              "  'rating': 9},\n",
              " '1027': {'expiry': '15 jul 2022',\n",
              "  'name': 'Pepsodent',\n",
              "  'price': 300,\n",
              "  'quan': 150,\n",
              "  'rating': 8},\n",
              " '1028': {'expiry': '10 aug 2024',\n",
              "  'name': 'Dupixent',\n",
              "  'price': 247,\n",
              "  'quan': 100,\n",
              "  'rating': 6},\n",
              " '1029': {'expiry': '31 jul 2023',\n",
              "  'name': 'Meloxicam',\n",
              "  'price': 149,\n",
              "  'quan': 98,\n",
              "  'rating': 2},\n",
              " '1030': {'expiry': '22 may 2022',\n",
              "  'name': 'Zubsolv',\n",
              "  'price': 104,\n",
              "  'quan': 200,\n",
              "  'rating': 7},\n",
              " '1031': {'expiry': '31 may 2024',\n",
              "  'name': 'Himalaya Baby Powder',\n",
              "  'price': 243,\n",
              "  'quan': 150,\n",
              "  'rating': 7},\n",
              " '1032': {'expiry': '31 may 2024',\n",
              "  'name': 'Viagra',\n",
              "  'price': 199,\n",
              "  'quan': 120,\n",
              "  'rating': 5},\n",
              " '1033': {'expiry': '01 jan 2024',\n",
              "  'name': 'Sublocade',\n",
              "  'price': 299,\n",
              "  'quan': 155,\n",
              "  'rating': 4},\n",
              " '1034': {'expiry': '31 may 2024',\n",
              "  'name': 'Clonazepam',\n",
              "  'price': 555,\n",
              "  'quan': 230,\n",
              "  'rating': 8},\n",
              " '1035': {'expiry': '31 jan 2022',\n",
              "  'name': 'Cephalexin',\n",
              "  'price': 475,\n",
              "  'quan': 50,\n",
              "  'rating': 9}}"
            ]
          },
          "metadata": {},
          "execution_count": 27
        }
      ]
    },
    {
      "cell_type": "markdown",
      "metadata": {
        "id": "BNWwSmzL3IPr"
      },
      "source": [
        "Adding new item to the Inventory"
      ]
    },
    {
      "cell_type": "code",
      "metadata": {
        "id": "p90ZAFJq3dQW",
        "colab": {
          "base_uri": "https://localhost:8080/"
        },
        "outputId": "5a51ede9-2677-4a41-c86b-c73a97f0ac27"
      },
      "source": [
        "prod_id = input(\"Enter the Product ID: \")\n",
        "name = input(\"Enter the Name of the Product: \")\n",
        "price = int(input(\"Enter the price per Item: \"))\n",
        "quan = int(input(\"Enter The Quantity of the Product you want to add: \"))\n",
        "expiry = input(\"Enter the expiry date of the Product: \")\n",
        "rating = input(\"Enter the Rating of the product: \")\n",
        "\n",
        "records[prod_id] = {\"name\":name,\"price\":price,\"quan\":quan,\"expiry\":expiry,\"rating\":rating}\n",
        "\n",
        "js = json.dumps(records)\n",
        "\n",
        "fd = open(\"records.json\",\"w\")\n",
        "fd.write(js)\n",
        "fd.close()"
      ],
      "execution_count": 30,
      "outputs": [
        {
          "name": "stdout",
          "output_type": "stream",
          "text": [
            "Enter the Product ID: 1036\n",
            "Enter the Name of the Product: Betadin\n",
            "Enter the price per Item: 45\n",
            "Enter The Quantity of the Product you want to add: 150\n",
            "Enter the expiry date of the Product: 31 Dec 2022\n",
            "Enter the Rating of the product: 6\n"
          ]
        }
      ]
    },
    {
      "cell_type": "code",
      "metadata": {
        "id": "YlvBcuFRCWUN"
      },
      "source": [
        ""
      ],
      "execution_count": null,
      "outputs": []
    }
  ]
}